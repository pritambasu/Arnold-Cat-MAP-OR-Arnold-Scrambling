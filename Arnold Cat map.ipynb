{
 "cells": [
  {
   "cell_type": "code",
   "execution_count": 12,
   "metadata": {},
   "outputs": [
    {
     "data": {
      "text/plain": [
       "'if __name__ == \"__main__\":\\n    main(sys.argv[1:])'"
      ]
     },
     "execution_count": 12,
     "metadata": {},
     "output_type": "execute_result"
    }
   ],
   "source": [
    "import numpy as np\n",
    "import math, time, sys\n",
    "from PIL import Image\n",
    "import cv2\n",
    "\n",
    "\n",
    "def arnoldscramble(img):\n",
    "    lena = img\n",
    "\n",
    "    # Arnold Transform Parameters\n",
    "    a = 6\n",
    "    b = 40\n",
    "    rounds = 33\n",
    "\n",
    "    # Open the images\n",
    "    \n",
    "\n",
    "    print(\" ~~~~~~  * PARAMETERS *  ~~~~~~ \")\n",
    "    arnold = Arnold(a, b, rounds)\n",
    "    print(\"\\ta:\\t\", a)\n",
    "    print(\"\\tb:\\t\", b)\n",
    "    print(\"\\trounds:\\t\", rounds)\n",
    "\n",
    "    print(\"\\n ~~~~~~  *  RESULTS   *  ~~~~~~ \")\n",
    "    \n",
    "    start_time = time.time()\n",
    "    scrambled = Arnold.applyTransformTo(arnold, lena)\n",
    "    exec_time = time.time() - start_time\n",
    "    print(\"Transform  execution time: %.6f \" % exec_time, \"sec\")\n",
    "    \n",
    "    cv2.imwrite('scrambled.png',scrambled)\n",
    "\n",
    "    start_time = time.time()\n",
    "    reconstructed = Arnold.applyInverseTransformTo(arnold, scrambled)\n",
    "    exec_time = time.time() - start_time\n",
    "    print(\"Inverse T. execution time: %.6f \" % exec_time, \"sec\")\n",
    "    im = Image.fromarray(reconstructed).convert(\"L\")\n",
    "    cv2.imwrite('reconstructed.png',reconstructed)\n",
    "\n",
    "    counter = 0\n",
    "    for i in range(scrambled.shape[0]):\n",
    "        for j in range(scrambled.shape[0]):\n",
    "            if(lena[i, j] != reconstructed[i, j]):\n",
    "                print(lena[i, j], \" != \", reconstructed[i, j])\n",
    "                counter += 1\n",
    "    print(\"\\nDIFFERENT PIXELS\\n\\toriginal  VS reconstructed:\\t\\t\", counter)\n",
    "\n",
    "\n",
    "'''if __name__ == \"__main__\":\n",
    "    main(sys.argv[1:])'''"
   ]
  },
  {
   "cell_type": "code",
   "execution_count": 13,
   "metadata": {},
   "outputs": [],
   "source": [
    "img = cv2.imread(\"TestImages/lena.png\",cv2.IMREAD_GRAYSCALE)"
   ]
  },
  {
   "cell_type": "code",
   "execution_count": 14,
   "metadata": {},
   "outputs": [
    {
     "name": "stdout",
     "output_type": "stream",
     "text": [
      " ~~~~~~  * PARAMETERS *  ~~~~~~ \n",
      "\ta:\t 6\n",
      "\tb:\t 40\n",
      "\trounds:\t 33\n",
      "\n",
      " ~~~~~~  *  RESULTS   *  ~~~~~~ \n",
      "Transform  execution time: 0.177538  sec\n",
      "Inverse T. execution time: 0.172992  sec\n",
      "\n",
      "DIFFERENT PIXELS\n",
      "\toriginal  VS reconstructed:\t\t 0\n"
     ]
    }
   ],
   "source": [
    "arnoldscramble(img)"
   ]
  },
  {
   "cell_type": "code",
   "execution_count": 5,
   "metadata": {},
   "outputs": [],
   "source": [
    "class Arnold:\n",
    "\n",
    "    def __init__(self, a:int, b:int, rounds:int):\n",
    "        # Parameters\n",
    "        self.__a = a\n",
    "        self.__b = b\n",
    "        self.__rounds = rounds\n",
    "\n",
    "    def mapping(self, s:np.shape):\n",
    "        x, y = np.meshgrid(range(s[0]), range(s[0]), indexing=\"ij\")\n",
    "        xmap = (self.__a*self.__b*x + x + self.__a*y) % s[0]\n",
    "        ymap = (self.__b*x + y) % s[0]\n",
    "        return xmap, ymap\n",
    "\n",
    "    def inverseMapping(self, s:np.shape):\n",
    "        x, y = np.meshgrid(range(s[0]), range(s[0]), indexing=\"ij\")\n",
    "        xmap = (x - self.__a*y) % s[0]\n",
    "        ymap = (-self.__b*x + self.__a*self.__b*y + y) % s[0]\n",
    "        return xmap, ymap\n",
    "\n",
    "    def applyTransformTo(self, image:np.ndarray):\n",
    "        xm, ym = self.mapping(image.shape)\n",
    "        img = image\n",
    "        for r in range(self.__rounds):\n",
    "            img = img[xm, ym]\n",
    "        return img\n",
    "\n",
    "    def applyInverseTransformTo(self, image:np.ndarray):\n",
    "        xm, ym = self.inverseMapping(image.shape)\n",
    "        img = image\n",
    "        for r in range(self.__rounds):\n",
    "            img = img[xm, ym]\n",
    "        return img"
   ]
  }
 ],
 "metadata": {
  "kernelspec": {
   "display_name": "Python 3",
   "language": "python",
   "name": "python3"
  },
  "language_info": {
   "codemirror_mode": {
    "name": "ipython",
    "version": 3
   },
   "file_extension": ".py",
   "mimetype": "text/x-python",
   "name": "python",
   "nbconvert_exporter": "python",
   "pygments_lexer": "ipython3",
   "version": "3.6.5"
  }
 },
 "nbformat": 4,
 "nbformat_minor": 2
}
